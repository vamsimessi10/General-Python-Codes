{
 "cells": [
  {
   "cell_type": "code",
   "execution_count": 1,
   "id": "d3a14faf",
   "metadata": {},
   "outputs": [],
   "source": [
    "import pandas as pd\n",
    "import numpy as np"
   ]
  },
  {
   "cell_type": "markdown",
   "id": "b3256a72",
   "metadata": {},
   "source": [
    "# Q) Let’s say you’re working in HR at a major tech company, and they ask you to find employees with a high probability of leaving the company. They tell you these employees perform well but have the lowest pay.\n",
    "\n",
    "Given two tables, employees and projects, find the five lowest-paid employees who have completed at least three projects.\n",
    "\n",
    "Note: We consider projects to be completed when they have an end date, which is the same as saying their End_dt is not NULL."
   ]
  },
  {
   "cell_type": "code",
   "execution_count": 173,
   "id": "b0744f6b",
   "metadata": {
    "scrolled": true
   },
   "outputs": [
    {
     "name": "stdout",
     "output_type": "stream",
     "text": [
      "Employees Table:\n",
      "   Emp_ID     Name   Department  Salary  Performance_Rating   Join_Date\n",
      "0     101    Alice  Engineering   70000                 4.5  2020-05-01\n",
      "1     102      Bob  Engineering   55000                 4.2  2019-03-15\n",
      "2     103  Charlie           HR   45000                 4.1  2018-07-10\n",
      "3     104    Diana  Engineering   48000                 4.3  2021-11-05\n",
      "4     105    Ethan        Sales   52000                 4.0  2020-02-20\n",
      "5     106    Fiona  Engineering   76000                 4.7  2017-08-14\n",
      "6     107   George           HR   47000                 4.0  2019-01-25\n",
      "7     108    Helen  Engineering   51000                 4.4  2020-06-30\n",
      "8     109      Ian        Sales   44000                 4.1  2021-09-12\n",
      "9     110     Jane  Engineering   57000                 4.6  2020-10-18\n",
      "\n",
      "Projects Table:\n",
      "    Project_ID  Emp_ID    Start_dt      End_dt     Project_Name\n",
      "0          201     101  2023-01-01  2023-03-01    Project Alpha\n",
      "1          202     102  2022-07-01  2022-09-01     Project Beta\n",
      "2          203     103  2022-01-10  2022-05-15    Project Gamma\n",
      "3          204     104  2023-05-01        None    Project Delta\n",
      "4          205     105  2023-04-01  2023-06-01  Project Epsilon\n",
      "5          206     106  2023-01-15  2023-04-15     Project Zeta\n",
      "6          207     107  2022-09-01        None      Project Eta\n",
      "7          208     108  2023-02-01  2023-03-30    Project Theta\n",
      "8          209     101  2022-06-01  2022-09-01     Project Iota\n",
      "9          210     102  2023-03-01  2023-06-01    Project Kappa\n",
      "10         211     102  2022-02-01  2022-05-01   Project Lambda\n",
      "11         212     104  2022-07-01  2022-11-01       Project Mu\n",
      "12         213     101  2023-07-01  2023-09-01       Project Nu\n",
      "13         214     105  2023-05-01  2023-07-01       Project Xi\n",
      "14         215     106  2023-06-01  2023-08-01  Project Omicron\n",
      "15         216     108  2022-01-01  2022-03-01       Project Pi\n",
      "16         217     110  2023-04-01  2023-06-01      Project Rho\n",
      "17         218     110  2023-06-01  2023-08-01    Project Sigma\n",
      "18         219     110  2023-08-15        None      Project Tau\n"
     ]
    }
   ],
   "source": [
    "import pandas as pd\n",
    "\n",
    "# Create the Employees table as a DataFrame\n",
    "employees = pd.DataFrame({\n",
    "    \"Emp_ID\": [101, 102, 103, 104, 105, 106, 107, 108, 109, 110],\n",
    "    \"Name\": [\"Alice\", \"Bob\", \"Charlie\", \"Diana\", \"Ethan\", \"Fiona\", \"George\", \"Helen\", \"Ian\", \"Jane\"],\n",
    "    \"Department\": [\"Engineering\", \"Engineering\", \"HR\", \"Engineering\", \"Sales\", \"Engineering\", \"HR\", \"Engineering\", \"Sales\", \"Engineering\"],\n",
    "    \"Salary\": [70000, 55000, 45000, 48000, 52000, 76000, 47000, 51000, 44000, 57000],\n",
    "    \"Performance_Rating\": [4.5, 4.2, 4.1, 4.3, 4.0, 4.7, 4.0, 4.4, 4.1, 4.6],\n",
    "    \"Join_Date\": [\"2020-05-01\", \"2019-03-15\", \"2018-07-10\", \"2021-11-05\", \"2020-02-20\", \"2017-08-14\", \"2019-01-25\", \"2020-06-30\", \"2021-09-12\", \"2020-10-18\"]\n",
    "})\n",
    "\n",
    "# Create the Projects table as a DataFrame\n",
    "projects = pd.DataFrame({\n",
    "    \"Project_ID\": [201, 202, 203, 204, 205, 206, 207, 208, 209, 210, 211, 212, 213, 214, 215, 216, 217, 218, 219],\n",
    "    \"Emp_ID\": [101, 102, 103, 104, 105, 106, 107, 108, 101, 102, 102, 104, 101, 105, 106, 108, 110, 110, 110],\n",
    "    \"Start_dt\": [\"2023-01-01\", \"2022-07-01\", \"2022-01-10\", \"2023-05-01\", \"2023-04-01\", \"2023-01-15\", \"2022-09-01\", \n",
    "                 \"2023-02-01\", \"2022-06-01\", \"2023-03-01\", \"2022-02-01\", \"2022-07-01\", \"2023-07-01\", \"2023-05-01\", \n",
    "                 \"2023-06-01\", \"2022-01-01\", \"2023-04-01\", \"2023-06-01\", \"2023-08-15\"],\n",
    "    \"End_dt\": [\"2023-03-01\", \"2022-09-01\", \"2022-05-15\", None, \"2023-06-01\", \"2023-04-15\", None, \"2023-03-30\", \n",
    "               \"2022-09-01\", \"2023-06-01\", \"2022-05-01\", \"2022-11-01\", \"2023-09-01\", \"2023-07-01\", \"2023-08-01\", \n",
    "               \"2022-03-01\", \"2023-06-01\", \"2023-08-01\", None],\n",
    "    \"Project_Name\": [\"Project Alpha\", \"Project Beta\", \"Project Gamma\", \"Project Delta\", \"Project Epsilon\", \n",
    "                     \"Project Zeta\", \"Project Eta\", \"Project Theta\", \"Project Iota\", \"Project Kappa\", \n",
    "                     \"Project Lambda\", \"Project Mu\", \"Project Nu\", \"Project Xi\", \"Project Omicron\", \n",
    "                     \"Project Pi\", \"Project Rho\", \"Project Sigma\", \"Project Tau\"]\n",
    "})\n",
    "\n",
    "# Display the DataFrames\n",
    "print(\"Employees Table:\")\n",
    "print(employees)\n",
    "\n",
    "print(\"\\nProjects Table:\")\n",
    "print(projects)\n"
   ]
  },
  {
   "cell_type": "markdown",
   "id": "63b95d12",
   "metadata": {},
   "source": [
    "# Selecting a column where the value is NON NULL"
   ]
  },
  {
   "cell_type": "code",
   "execution_count": null,
   "id": "b52ffe3f",
   "metadata": {},
   "outputs": [],
   "source": [
    "p = projects[projects[\"End_dt\"].notnull()]"
   ]
  },
  {
   "cell_type": "markdown",
   "id": "d3b22729",
   "metadata": {},
   "source": [
    "# Group by Statement; Count(Project_ID)"
   ]
  },
  {
   "cell_type": "code",
   "execution_count": 35,
   "id": "d34bdfbd",
   "metadata": {},
   "outputs": [],
   "source": [
    "p = p.groupby(\"Emp_ID\")[\"Project_ID\"].count().reset_index(name=\"count_Project_ID\")"
   ]
  },
  {
   "cell_type": "markdown",
   "id": "5e53ff90",
   "metadata": {},
   "source": [
    "# Filtering for a column that has value greater than 2 "
   ]
  },
  {
   "cell_type": "code",
   "execution_count": 36,
   "id": "b31e2dea",
   "metadata": {},
   "outputs": [],
   "source": [
    "p=p[p['count_Project_ID']>2]"
   ]
  },
  {
   "cell_type": "markdown",
   "id": "f746ca98",
   "metadata": {},
   "source": [
    "# Inner join in SQL "
   ]
  },
  {
   "cell_type": "code",
   "execution_count": 37,
   "id": "aa75ec77",
   "metadata": {},
   "outputs": [],
   "source": [
    "ij = pd.merge(p, employees, on=\"Emp_ID\", how=\"inner\")\n"
   ]
  },
  {
   "cell_type": "markdown",
   "id": "4a44df46",
   "metadata": {},
   "source": [
    "# Selecting multiple columns in SQL "
   ]
  },
  {
   "cell_type": "code",
   "execution_count": 31,
   "id": "1bc06368",
   "metadata": {},
   "outputs": [
    {
     "data": {
      "text/html": [
       "<div>\n",
       "<style scoped>\n",
       "    .dataframe tbody tr th:only-of-type {\n",
       "        vertical-align: middle;\n",
       "    }\n",
       "\n",
       "    .dataframe tbody tr th {\n",
       "        vertical-align: top;\n",
       "    }\n",
       "\n",
       "    .dataframe thead th {\n",
       "        text-align: right;\n",
       "    }\n",
       "</style>\n",
       "<table border=\"1\" class=\"dataframe\">\n",
       "  <thead>\n",
       "    <tr style=\"text-align: right;\">\n",
       "      <th></th>\n",
       "      <th>Emp_ID</th>\n",
       "      <th>Salary</th>\n",
       "      <th>Join_Date</th>\n",
       "    </tr>\n",
       "  </thead>\n",
       "  <tbody>\n",
       "    <tr>\n",
       "      <th>0</th>\n",
       "      <td>101</td>\n",
       "      <td>70000</td>\n",
       "      <td>2020-05-01</td>\n",
       "    </tr>\n",
       "    <tr>\n",
       "      <th>1</th>\n",
       "      <td>102</td>\n",
       "      <td>55000</td>\n",
       "      <td>2019-03-15</td>\n",
       "    </tr>\n",
       "  </tbody>\n",
       "</table>\n",
       "</div>"
      ],
      "text/plain": [
       "   Emp_ID  Salary   Join_Date\n",
       "0     101   70000  2020-05-01\n",
       "1     102   55000  2019-03-15"
      ]
     },
     "execution_count": 31,
     "metadata": {},
     "output_type": "execute_result"
    }
   ],
   "source": [
    "ij[[\"Emp_ID\",\"Salary\",\"Join_Date\"]]"
   ]
  },
  {
   "cell_type": "markdown",
   "id": "a7b3118d",
   "metadata": {},
   "source": [
    "# Dense_rank in SQL "
   ]
  },
  {
   "cell_type": "code",
   "execution_count": 42,
   "id": "a4045b21",
   "metadata": {},
   "outputs": [],
   "source": [
    "ij['dense_rank']=ij['Salary'].rank(method='dense', ascending=False)\n"
   ]
  },
  {
   "cell_type": "code",
   "execution_count": 45,
   "id": "e521914f",
   "metadata": {},
   "outputs": [
    {
     "data": {
      "text/html": [
       "<div>\n",
       "<style scoped>\n",
       "    .dataframe tbody tr th:only-of-type {\n",
       "        vertical-align: middle;\n",
       "    }\n",
       "\n",
       "    .dataframe tbody tr th {\n",
       "        vertical-align: top;\n",
       "    }\n",
       "\n",
       "    .dataframe thead th {\n",
       "        text-align: right;\n",
       "    }\n",
       "</style>\n",
       "<table border=\"1\" class=\"dataframe\">\n",
       "  <thead>\n",
       "    <tr style=\"text-align: right;\">\n",
       "      <th></th>\n",
       "      <th>Emp_ID</th>\n",
       "      <th>count_Project_ID</th>\n",
       "      <th>Name</th>\n",
       "      <th>Department</th>\n",
       "      <th>Salary</th>\n",
       "      <th>Performance_Rating</th>\n",
       "      <th>Join_Date</th>\n",
       "      <th>dense_rank</th>\n",
       "    </tr>\n",
       "  </thead>\n",
       "  <tbody>\n",
       "    <tr>\n",
       "      <th>0</th>\n",
       "      <td>101</td>\n",
       "      <td>3</td>\n",
       "      <td>Alice</td>\n",
       "      <td>Engineering</td>\n",
       "      <td>70000</td>\n",
       "      <td>4.5</td>\n",
       "      <td>2020-05-01</td>\n",
       "      <td>1.0</td>\n",
       "    </tr>\n",
       "    <tr>\n",
       "      <th>1</th>\n",
       "      <td>102</td>\n",
       "      <td>3</td>\n",
       "      <td>Bob</td>\n",
       "      <td>Engineering</td>\n",
       "      <td>55000</td>\n",
       "      <td>4.2</td>\n",
       "      <td>2019-03-15</td>\n",
       "      <td>2.0</td>\n",
       "    </tr>\n",
       "  </tbody>\n",
       "</table>\n",
       "</div>"
      ],
      "text/plain": [
       "   Emp_ID  count_Project_ID   Name   Department  Salary  Performance_Rating  \\\n",
       "0     101                 3  Alice  Engineering   70000                 4.5   \n",
       "1     102                 3    Bob  Engineering   55000                 4.2   \n",
       "\n",
       "    Join_Date  dense_rank  \n",
       "0  2020-05-01         1.0  \n",
       "1  2019-03-15         2.0  "
      ]
     },
     "execution_count": 45,
     "metadata": {},
     "output_type": "execute_result"
    }
   ],
   "source": [
    "ij[ij['dense_rank']<6]"
   ]
  },
  {
   "cell_type": "code",
   "execution_count": 63,
   "id": "deda7893",
   "metadata": {},
   "outputs": [],
   "source": [
    "def lp_hp (a,b):\n",
    "    p = b[b[\"End_dt\"].notnull()]\n",
    "    p = p.groupby(\"Emp_ID\")[\"Project_ID\"].count().reset_index(name=\"count_Project_ID\")\n",
    "    p=p[p['count_Project_ID']>2]\n",
    "    ij = pd.merge(p, a, on=\"Emp_ID\", how=\"inner\")\n",
    "    ij['dense_rank']=ij['Salary'].rank(method='dense', ascending=False)\n",
    "    ij=ij[ij['dense_rank']<6]\n",
    "    return(ij)\n",
    "\n",
    "    "
   ]
  },
  {
   "cell_type": "code",
   "execution_count": 64,
   "id": "15a336f6",
   "metadata": {},
   "outputs": [
    {
     "data": {
      "text/html": [
       "<div>\n",
       "<style scoped>\n",
       "    .dataframe tbody tr th:only-of-type {\n",
       "        vertical-align: middle;\n",
       "    }\n",
       "\n",
       "    .dataframe tbody tr th {\n",
       "        vertical-align: top;\n",
       "    }\n",
       "\n",
       "    .dataframe thead th {\n",
       "        text-align: right;\n",
       "    }\n",
       "</style>\n",
       "<table border=\"1\" class=\"dataframe\">\n",
       "  <thead>\n",
       "    <tr style=\"text-align: right;\">\n",
       "      <th></th>\n",
       "      <th>Emp_ID</th>\n",
       "      <th>count_Project_ID</th>\n",
       "      <th>Name</th>\n",
       "      <th>Department</th>\n",
       "      <th>Salary</th>\n",
       "      <th>Performance_Rating</th>\n",
       "      <th>Join_Date</th>\n",
       "      <th>dense_rank</th>\n",
       "    </tr>\n",
       "  </thead>\n",
       "  <tbody>\n",
       "    <tr>\n",
       "      <th>0</th>\n",
       "      <td>101</td>\n",
       "      <td>3</td>\n",
       "      <td>Alice</td>\n",
       "      <td>Engineering</td>\n",
       "      <td>70000</td>\n",
       "      <td>4.5</td>\n",
       "      <td>2020-05-01</td>\n",
       "      <td>1.0</td>\n",
       "    </tr>\n",
       "    <tr>\n",
       "      <th>1</th>\n",
       "      <td>102</td>\n",
       "      <td>3</td>\n",
       "      <td>Bob</td>\n",
       "      <td>Engineering</td>\n",
       "      <td>55000</td>\n",
       "      <td>4.2</td>\n",
       "      <td>2019-03-15</td>\n",
       "      <td>2.0</td>\n",
       "    </tr>\n",
       "  </tbody>\n",
       "</table>\n",
       "</div>"
      ],
      "text/plain": [
       "   Emp_ID  count_Project_ID   Name   Department  Salary  Performance_Rating  \\\n",
       "0     101                 3  Alice  Engineering   70000                 4.5   \n",
       "1     102                 3    Bob  Engineering   55000                 4.2   \n",
       "\n",
       "    Join_Date  dense_rank  \n",
       "0  2020-05-01         1.0  \n",
       "1  2019-03-15         2.0  "
      ]
     },
     "execution_count": 64,
     "metadata": {},
     "output_type": "execute_result"
    }
   ],
   "source": [
    "lp_hp(employees,projects)"
   ]
  },
  {
   "cell_type": "markdown",
   "id": "d69a56cb",
   "metadata": {},
   "source": [
    "# Q) You’re given a dataframe of students named students_df:\n",
    "\n",
    "students_df table\n",
    "\n",
    "name\tage\tfavorite_color\tgrade\n",
    "Tim Voss\t19\tred\t91\n",
    "Nicole Johnson\t20\tyellow\t95\n",
    "Elsa Williams\t21\tgreen\t82\n",
    "John James\t20\tblue\t75\n",
    "Catherine Jones\t23\tgreen\t93\n",
    "Write a function named grades_colors to select only the rows where the student’s favorite color is green or red and their grade is above 90."
   ]
  },
  {
   "cell_type": "code",
   "execution_count": 67,
   "id": "dc11896f",
   "metadata": {},
   "outputs": [],
   "source": [
    "\n",
    "\n",
    "students = {\"name\" : [\"Tim Voss\", \"Nicole Johnson\", \"Elsa Williams\", \"John James\", \"Catherine Jones\"], \"age\" : [19, 20, 21, 20, 23], \"favorite_color\" : [\"red\", \"yellow\", \"green\", \"blue\", \"green\"], \"grade\" : [91, 95, 82, 75, 93]}\n",
    "\n",
    "students_df = pd.DataFrame(students)\n"
   ]
  },
  {
   "cell_type": "code",
   "execution_count": 81,
   "id": "4862f0f6",
   "metadata": {},
   "outputs": [
    {
     "data": {
      "text/html": [
       "<div>\n",
       "<style scoped>\n",
       "    .dataframe tbody tr th:only-of-type {\n",
       "        vertical-align: middle;\n",
       "    }\n",
       "\n",
       "    .dataframe tbody tr th {\n",
       "        vertical-align: top;\n",
       "    }\n",
       "\n",
       "    .dataframe thead th {\n",
       "        text-align: right;\n",
       "    }\n",
       "</style>\n",
       "<table border=\"1\" class=\"dataframe\">\n",
       "  <thead>\n",
       "    <tr style=\"text-align: right;\">\n",
       "      <th></th>\n",
       "      <th>name</th>\n",
       "      <th>age</th>\n",
       "      <th>favorite_color</th>\n",
       "      <th>grade</th>\n",
       "    </tr>\n",
       "  </thead>\n",
       "  <tbody>\n",
       "    <tr>\n",
       "      <th>0</th>\n",
       "      <td>Tim Voss</td>\n",
       "      <td>19</td>\n",
       "      <td>red</td>\n",
       "      <td>91</td>\n",
       "    </tr>\n",
       "    <tr>\n",
       "      <th>1</th>\n",
       "      <td>Nicole Johnson</td>\n",
       "      <td>20</td>\n",
       "      <td>yellow</td>\n",
       "      <td>95</td>\n",
       "    </tr>\n",
       "    <tr>\n",
       "      <th>2</th>\n",
       "      <td>Elsa Williams</td>\n",
       "      <td>21</td>\n",
       "      <td>green</td>\n",
       "      <td>82</td>\n",
       "    </tr>\n",
       "    <tr>\n",
       "      <th>3</th>\n",
       "      <td>John James</td>\n",
       "      <td>20</td>\n",
       "      <td>blue</td>\n",
       "      <td>75</td>\n",
       "    </tr>\n",
       "    <tr>\n",
       "      <th>4</th>\n",
       "      <td>Catherine Jones</td>\n",
       "      <td>23</td>\n",
       "      <td>green</td>\n",
       "      <td>93</td>\n",
       "    </tr>\n",
       "  </tbody>\n",
       "</table>\n",
       "</div>"
      ],
      "text/plain": [
       "              name  age favorite_color  grade\n",
       "0         Tim Voss   19            red     91\n",
       "1   Nicole Johnson   20         yellow     95\n",
       "2    Elsa Williams   21          green     82\n",
       "3       John James   20           blue     75\n",
       "4  Catherine Jones   23          green     93"
      ]
     },
     "execution_count": 81,
     "metadata": {},
     "output_type": "execute_result"
    }
   ],
   "source": [
    "students_df"
   ]
  },
  {
   "cell_type": "code",
   "execution_count": 83,
   "id": "ba5a8274",
   "metadata": {},
   "outputs": [
    {
     "data": {
      "text/html": [
       "<div>\n",
       "<style scoped>\n",
       "    .dataframe tbody tr th:only-of-type {\n",
       "        vertical-align: middle;\n",
       "    }\n",
       "\n",
       "    .dataframe tbody tr th {\n",
       "        vertical-align: top;\n",
       "    }\n",
       "\n",
       "    .dataframe thead th {\n",
       "        text-align: right;\n",
       "    }\n",
       "</style>\n",
       "<table border=\"1\" class=\"dataframe\">\n",
       "  <thead>\n",
       "    <tr style=\"text-align: right;\">\n",
       "      <th></th>\n",
       "      <th>name</th>\n",
       "      <th>age</th>\n",
       "      <th>favorite_color</th>\n",
       "      <th>grade</th>\n",
       "    </tr>\n",
       "  </thead>\n",
       "  <tbody>\n",
       "    <tr>\n",
       "      <th>0</th>\n",
       "      <td>Tim Voss</td>\n",
       "      <td>19</td>\n",
       "      <td>red</td>\n",
       "      <td>91</td>\n",
       "    </tr>\n",
       "    <tr>\n",
       "      <th>4</th>\n",
       "      <td>Catherine Jones</td>\n",
       "      <td>23</td>\n",
       "      <td>green</td>\n",
       "      <td>93</td>\n",
       "    </tr>\n",
       "  </tbody>\n",
       "</table>\n",
       "</div>"
      ],
      "text/plain": [
       "              name  age favorite_color  grade\n",
       "0         Tim Voss   19            red     91\n",
       "4  Catherine Jones   23          green     93"
      ]
     },
     "execution_count": 83,
     "metadata": {},
     "output_type": "execute_result"
    }
   ],
   "source": [
    "# Filtering the DataFrame\n",
    "filtered_df = students_df[(students_df['grade'] > 90) & \n",
    "                          (students_df['favorite_color'].isin(['green', 'red']))]\n",
    "filtered_df"
   ]
  },
  {
   "cell_type": "markdown",
   "id": "b5cd499d",
   "metadata": {},
   "source": [
    "# Q) Write a query to show the number of users, number of transactions placed, and total order amount per month in the year 2020. Assume that we are only interested in the monthly reports for a single year (January-December).\n",
    "\n"
   ]
  },
  {
   "cell_type": "markdown",
   "id": "b8d6b739",
   "metadata": {},
   "source": [
    "Input:\n",
    "\n",
    "transactions table\n",
    "\n",
    "Column\tType\n",
    "id\tINTEGER\n",
    "user_id\tINTEGER\n",
    "created_at\tDATETIME\n",
    "product_id\tINTEGER\n",
    "quantity\tINTEGER\n",
    "products table\n",
    "\n",
    "Column\tType\n",
    "id\tINTEGER\n",
    "name\tVARCHAR\n",
    "price\tFLOAT\n",
    "users table\n",
    "\n",
    "Column\tType\n",
    "id\tINTEGER\n",
    "name\tVARCHAR\n",
    "sex\tVARCHAR"
   ]
  },
  {
   "cell_type": "code",
   "execution_count": 106,
   "id": "eca47680",
   "metadata": {},
   "outputs": [
    {
     "name": "stdout",
     "output_type": "stream",
     "text": [
      "Users DataFrame:\n",
      "   id    name sex\n",
      "0   1  User_1   M\n",
      "1   2  User_2   M\n",
      "2   3  User_3   M\n",
      "3   4  User_4   F\n",
      "4   5  User_5   F\n",
      "\n",
      "Products DataFrame:\n",
      "   id       name      price\n",
      "0   1  Product_1  82.277946\n",
      "1   2  Product_2  98.309911\n",
      "2   3  Product_3  30.440859\n",
      "3   4  Product_4  45.649737\n",
      "4   5  Product_5  36.609370\n",
      "\n",
      "Transactions DataFrame:\n",
      "   id  user_id created_at  product_id  quantity\n",
      "0   1       26 2020-09-12          11         1\n",
      "1   2        6 2021-05-19          14         3\n",
      "2   3        4 2019-10-13          10         4\n",
      "3   4       15 2019-02-13          13         2\n",
      "4   5       38 2021-02-07           3         3\n"
     ]
    }
   ],
   "source": [
    "import pandas as pd\n",
    "import numpy as np\n",
    "from datetime import datetime, timedelta\n",
    "\n",
    "# Generate users data\n",
    "num_users = 50\n",
    "user_ids = np.arange(1, num_users + 1)\n",
    "names = ['User_' + str(i) for i in range(1, num_users + 1)]\n",
    "sexes = np.random.choice(['M', 'F'], size=num_users)\n",
    "users_df = pd.DataFrame({'id': user_ids, 'name': names, 'sex': sexes})\n",
    "\n",
    "# Generate products data\n",
    "num_products = 20\n",
    "product_ids = np.arange(1, num_products + 1)\n",
    "names = ['Product_' + str(i) for i in range(1, num_products + 1)]\n",
    "prices = np.random.uniform(5, 100, size=num_products)  # Prices between 5 and 100\n",
    "products_df = pd.DataFrame({'id': product_ids, 'name': names, 'price': prices})\n",
    "\n",
    "# Generate transactions data\n",
    "num_transactions = 300\n",
    "start_date = datetime(2019, 1, 1)\n",
    "end_date = datetime(2021, 12, 31)\n",
    "date_range = pd.date_range(start_date, end_date)\n",
    "transactions_df = pd.DataFrame({\n",
    "    'id': np.arange(1, num_transactions + 1),\n",
    "    'user_id': np.random.choice(user_ids, size=num_transactions),\n",
    "    'created_at': np.random.choice(date_range, size=num_transactions),\n",
    "    'product_id': np.random.choice(product_ids, size=num_transactions),\n",
    "    'quantity': np.random.randint(1, 5, size=num_transactions)  # Quantity between 1 and 4\n",
    "})\n",
    "\n",
    "print(\"Users DataFrame:\")\n",
    "print(users_df.head())\n",
    "\n",
    "print(\"\\nProducts DataFrame:\")\n",
    "print(products_df.head())\n",
    "\n",
    "print(\"\\nTransactions DataFrame:\")\n",
    "print(transactions_df.head())"
   ]
  },
  {
   "cell_type": "markdown",
   "id": "66317472",
   "metadata": {},
   "source": [
    "# Left join with different column names\n",
    "# Filtering on AN YEAR from date column"
   ]
  },
  {
   "cell_type": "code",
   "execution_count": 123,
   "id": "7726260f",
   "metadata": {},
   "outputs": [
    {
     "data": {
      "text/html": [
       "<div>\n",
       "<style scoped>\n",
       "    .dataframe tbody tr th:only-of-type {\n",
       "        vertical-align: middle;\n",
       "    }\n",
       "\n",
       "    .dataframe tbody tr th {\n",
       "        vertical-align: top;\n",
       "    }\n",
       "\n",
       "    .dataframe thead th {\n",
       "        text-align: right;\n",
       "    }\n",
       "</style>\n",
       "<table border=\"1\" class=\"dataframe\">\n",
       "  <thead>\n",
       "    <tr style=\"text-align: right;\">\n",
       "      <th></th>\n",
       "      <th>user_id</th>\n",
       "      <th>created_at</th>\n",
       "      <th>quantity</th>\n",
       "      <th>product_id</th>\n",
       "      <th>price</th>\n",
       "    </tr>\n",
       "  </thead>\n",
       "  <tbody>\n",
       "    <tr>\n",
       "      <th>0</th>\n",
       "      <td>26</td>\n",
       "      <td>2020-09-12</td>\n",
       "      <td>1</td>\n",
       "      <td>11</td>\n",
       "      <td>82.326291</td>\n",
       "    </tr>\n",
       "    <tr>\n",
       "      <th>5</th>\n",
       "      <td>43</td>\n",
       "      <td>2020-08-03</td>\n",
       "      <td>4</td>\n",
       "      <td>17</td>\n",
       "      <td>84.412878</td>\n",
       "    </tr>\n",
       "    <tr>\n",
       "      <th>10</th>\n",
       "      <td>21</td>\n",
       "      <td>2020-09-18</td>\n",
       "      <td>1</td>\n",
       "      <td>7</td>\n",
       "      <td>66.573131</td>\n",
       "    </tr>\n",
       "    <tr>\n",
       "      <th>13</th>\n",
       "      <td>29</td>\n",
       "      <td>2020-03-01</td>\n",
       "      <td>1</td>\n",
       "      <td>6</td>\n",
       "      <td>94.761264</td>\n",
       "    </tr>\n",
       "    <tr>\n",
       "      <th>14</th>\n",
       "      <td>40</td>\n",
       "      <td>2020-09-30</td>\n",
       "      <td>4</td>\n",
       "      <td>18</td>\n",
       "      <td>65.269215</td>\n",
       "    </tr>\n",
       "    <tr>\n",
       "      <th>...</th>\n",
       "      <td>...</td>\n",
       "      <td>...</td>\n",
       "      <td>...</td>\n",
       "      <td>...</td>\n",
       "      <td>...</td>\n",
       "    </tr>\n",
       "    <tr>\n",
       "      <th>283</th>\n",
       "      <td>6</td>\n",
       "      <td>2020-07-22</td>\n",
       "      <td>4</td>\n",
       "      <td>18</td>\n",
       "      <td>65.269215</td>\n",
       "    </tr>\n",
       "    <tr>\n",
       "      <th>284</th>\n",
       "      <td>10</td>\n",
       "      <td>2020-11-18</td>\n",
       "      <td>2</td>\n",
       "      <td>20</td>\n",
       "      <td>17.244539</td>\n",
       "    </tr>\n",
       "    <tr>\n",
       "      <th>285</th>\n",
       "      <td>42</td>\n",
       "      <td>2020-11-24</td>\n",
       "      <td>3</td>\n",
       "      <td>3</td>\n",
       "      <td>30.440859</td>\n",
       "    </tr>\n",
       "    <tr>\n",
       "      <th>287</th>\n",
       "      <td>23</td>\n",
       "      <td>2020-03-01</td>\n",
       "      <td>1</td>\n",
       "      <td>5</td>\n",
       "      <td>36.609370</td>\n",
       "    </tr>\n",
       "    <tr>\n",
       "      <th>293</th>\n",
       "      <td>36</td>\n",
       "      <td>2020-05-18</td>\n",
       "      <td>1</td>\n",
       "      <td>5</td>\n",
       "      <td>36.609370</td>\n",
       "    </tr>\n",
       "  </tbody>\n",
       "</table>\n",
       "<p>99 rows × 5 columns</p>\n",
       "</div>"
      ],
      "text/plain": [
       "     user_id created_at  quantity  product_id      price\n",
       "0         26 2020-09-12         1          11  82.326291\n",
       "5         43 2020-08-03         4          17  84.412878\n",
       "10        21 2020-09-18         1           7  66.573131\n",
       "13        29 2020-03-01         1           6  94.761264\n",
       "14        40 2020-09-30         4          18  65.269215\n",
       "..       ...        ...       ...         ...        ...\n",
       "283        6 2020-07-22         4          18  65.269215\n",
       "284       10 2020-11-18         2          20  17.244539\n",
       "285       42 2020-11-24         3           3  30.440859\n",
       "287       23 2020-03-01         1           5  36.609370\n",
       "293       36 2020-05-18         1           5  36.609370\n",
       "\n",
       "[99 rows x 5 columns]"
      ]
     },
     "execution_count": 123,
     "metadata": {},
     "output_type": "execute_result"
    }
   ],
   "source": [
    "r = pd.merge(users_df,transactions_df,left_on='id', right_on='user_id', how= 'right')[['user_id','created_at',\n",
    "                                                                                      'quantity','product_id']]\n",
    "r = pd.merge(r,products_df,left_on='product_id', right_on='id', how= 'left')[['user_id','created_at',\n",
    "                                                                                      'quantity','product_id','price']]\n",
    "r= r[r['created_at'].dt.year == 2020]\n",
    "r"
   ]
  },
  {
   "cell_type": "markdown",
   "id": "d4191cd4",
   "metadata": {},
   "source": [
    "# Group by a field and yield multiple aggregate functions"
   ]
  },
  {
   "cell_type": "code",
   "execution_count": 126,
   "id": "e7f28dd5",
   "metadata": {},
   "outputs": [
    {
     "data": {
      "text/html": [
       "<div>\n",
       "<style scoped>\n",
       "    .dataframe tbody tr th:only-of-type {\n",
       "        vertical-align: middle;\n",
       "    }\n",
       "\n",
       "    .dataframe tbody tr th {\n",
       "        vertical-align: top;\n",
       "    }\n",
       "\n",
       "    .dataframe thead th {\n",
       "        text-align: right;\n",
       "    }\n",
       "</style>\n",
       "<table border=\"1\" class=\"dataframe\">\n",
       "  <thead>\n",
       "    <tr style=\"text-align: right;\">\n",
       "      <th></th>\n",
       "      <th>user_id</th>\n",
       "      <th>Month</th>\n",
       "      <th>quantity</th>\n",
       "      <th>product_id</th>\n",
       "      <th>price</th>\n",
       "    </tr>\n",
       "  </thead>\n",
       "  <tbody>\n",
       "    <tr>\n",
       "      <th>0</th>\n",
       "      <td>26</td>\n",
       "      <td>2020-09-12</td>\n",
       "      <td>1</td>\n",
       "      <td>11</td>\n",
       "      <td>82.326291</td>\n",
       "    </tr>\n",
       "    <tr>\n",
       "      <th>5</th>\n",
       "      <td>43</td>\n",
       "      <td>2020-08-03</td>\n",
       "      <td>4</td>\n",
       "      <td>17</td>\n",
       "      <td>84.412878</td>\n",
       "    </tr>\n",
       "    <tr>\n",
       "      <th>10</th>\n",
       "      <td>21</td>\n",
       "      <td>2020-09-18</td>\n",
       "      <td>1</td>\n",
       "      <td>7</td>\n",
       "      <td>66.573131</td>\n",
       "    </tr>\n",
       "    <tr>\n",
       "      <th>13</th>\n",
       "      <td>29</td>\n",
       "      <td>2020-03-01</td>\n",
       "      <td>1</td>\n",
       "      <td>6</td>\n",
       "      <td>94.761264</td>\n",
       "    </tr>\n",
       "    <tr>\n",
       "      <th>14</th>\n",
       "      <td>40</td>\n",
       "      <td>2020-09-30</td>\n",
       "      <td>4</td>\n",
       "      <td>18</td>\n",
       "      <td>65.269215</td>\n",
       "    </tr>\n",
       "    <tr>\n",
       "      <th>...</th>\n",
       "      <td>...</td>\n",
       "      <td>...</td>\n",
       "      <td>...</td>\n",
       "      <td>...</td>\n",
       "      <td>...</td>\n",
       "    </tr>\n",
       "    <tr>\n",
       "      <th>283</th>\n",
       "      <td>6</td>\n",
       "      <td>2020-07-22</td>\n",
       "      <td>4</td>\n",
       "      <td>18</td>\n",
       "      <td>65.269215</td>\n",
       "    </tr>\n",
       "    <tr>\n",
       "      <th>284</th>\n",
       "      <td>10</td>\n",
       "      <td>2020-11-18</td>\n",
       "      <td>2</td>\n",
       "      <td>20</td>\n",
       "      <td>17.244539</td>\n",
       "    </tr>\n",
       "    <tr>\n",
       "      <th>285</th>\n",
       "      <td>42</td>\n",
       "      <td>2020-11-24</td>\n",
       "      <td>3</td>\n",
       "      <td>3</td>\n",
       "      <td>30.440859</td>\n",
       "    </tr>\n",
       "    <tr>\n",
       "      <th>287</th>\n",
       "      <td>23</td>\n",
       "      <td>2020-03-01</td>\n",
       "      <td>1</td>\n",
       "      <td>5</td>\n",
       "      <td>36.609370</td>\n",
       "    </tr>\n",
       "    <tr>\n",
       "      <th>293</th>\n",
       "      <td>36</td>\n",
       "      <td>2020-05-18</td>\n",
       "      <td>1</td>\n",
       "      <td>5</td>\n",
       "      <td>36.609370</td>\n",
       "    </tr>\n",
       "  </tbody>\n",
       "</table>\n",
       "<p>99 rows × 5 columns</p>\n",
       "</div>"
      ],
      "text/plain": [
       "     user_id      Month  quantity  product_id      price\n",
       "0         26 2020-09-12         1          11  82.326291\n",
       "5         43 2020-08-03         4          17  84.412878\n",
       "10        21 2020-09-18         1           7  66.573131\n",
       "13        29 2020-03-01         1           6  94.761264\n",
       "14        40 2020-09-30         4          18  65.269215\n",
       "..       ...        ...       ...         ...        ...\n",
       "283        6 2020-07-22         4          18  65.269215\n",
       "284       10 2020-11-18         2          20  17.244539\n",
       "285       42 2020-11-24         3           3  30.440859\n",
       "287       23 2020-03-01         1           5  36.609370\n",
       "293       36 2020-05-18         1           5  36.609370\n",
       "\n",
       "[99 rows x 5 columns]"
      ]
     },
     "execution_count": 126,
     "metadata": {},
     "output_type": "execute_result"
    }
   ],
   "source": [
    "r.groupby(r['created_at'].dt.month).agg(\n",
    "        num_users=('user_id', 'nunique'),\n",
    "        total_quantity=('quantity', 'sum'),\n",
    "        avg_price=('price', 'mean')).reset_index()\n",
    "\n",
    "r = r.rename(columns={'created_at': 'Month'})\n",
    "r"
   ]
  },
  {
   "cell_type": "markdown",
   "id": "059f70b4",
   "metadata": {},
   "source": [
    "# Asking the user for the input"
   ]
  },
  {
   "cell_type": "code",
   "execution_count": 154,
   "id": "d2fcde63",
   "metadata": {},
   "outputs": [
    {
     "name": "stdout",
     "output_type": "stream",
     "text": [
      "Enter a number: 6\n",
      "6 is divisible by 3\n"
     ]
    }
   ],
   "source": [
    "def is_divisible_by_3():\n",
    "    \"\"\"Asks the user for a number and checks if it's divisible by 3.\n",
    "  \"\"\"\n",
    "\n",
    "try:\n",
    "    num = int(input(\"Enter a number: \"))\n",
    "    if num % 3 == 0:\n",
    "        print(f\"{num} is divisible by 3\")\n",
    "    else:\n",
    "        print(f\"{num} is not divisible by 3\")\n",
    "except ValueError:\n",
    "    print(int(num))\n",
    "\n",
    "is_divisible_by_3()"
   ]
  },
  {
   "cell_type": "markdown",
   "id": "7389bfe0",
   "metadata": {},
   "source": [
    "# Q) We’re given a table of product purchases. Each row in the table represents an individual user product purchase.\n",
    "\n",
    "Write a query to get the number of customers that were upsold, or in other words, the number of users who bought additional products after their first purchase.\n",
    "\n",
    "Note: If the customer purchased two things on the same day, that does not count as an upsell, as they were purchased within a similar timeframe."
   ]
  },
  {
   "cell_type": "code",
   "execution_count": 155,
   "id": "996834f4",
   "metadata": {},
   "outputs": [
    {
     "name": "stdout",
     "output_type": "stream",
     "text": [
      "   user_id created_at  product_id  quantity\n",
      "0        1 2023-01-13          20         4\n",
      "1        1 2023-12-24          47         3\n",
      "2        1 2023-01-14           6         3\n",
      "3        1 2023-07-13          34         2\n",
      "4        1 2023-06-12          20         1\n"
     ]
    }
   ],
   "source": [
    "import pandas as pd\n",
    "import numpy as np\n",
    "from datetime import datetime, timedelta\n",
    "\n",
    "# Generate fake data for the transactions table\n",
    "num_users = 50\n",
    "user_ids = np.arange(1, num_users + 1)\n",
    "product_ids = np.arange(1, 101)  # More product variety\n",
    "start_date = datetime(2023, 1, 1)\n",
    "end_date = datetime(2023, 12, 31)\n",
    "date_range = pd.date_range(start_date, end_date)\n",
    "\n",
    "# Create a list to store transactions\n",
    "transactions = []\n",
    "for user_id in user_ids:\n",
    "    # Each user makes at least one purchase\n",
    "    num_purchases = np.random.randint(1, 6)  # Users make 1 to 5 purchases\n",
    "    purchase_dates = np.random.choice(date_range, size=num_purchases, replace=False)  # No duplicate dates for a user\n",
    "    for date in purchase_dates:\n",
    "        product_id = np.random.choice(product_ids)\n",
    "        quantity = np.random.randint(1, 5)\n",
    "        transactions.append([user_id, date, product_id, quantity])\n",
    "\n",
    "df = pd.DataFrame(transactions, columns=['user_id', 'created_at', 'product_id', 'quantity'])\n",
    "\n",
    "print(df.head())"
   ]
  },
  {
   "cell_type": "code",
   "execution_count": 165,
   "id": "2031ac25",
   "metadata": {},
   "outputs": [
    {
     "name": "stdout",
     "output_type": "stream",
     "text": [
      "43\n"
     ]
    }
   ],
   "source": [
    "df['dense_rank'] = (df.groupby(['user_id'])['created_at'].rank(method='dense', ascending=True))\n",
    "df['date'] = df['created_at'].dt.date  # Extract the date\n",
    "df['date_rank'] = (df.groupby(['user_id', 'date'])['created_at']\n",
    "                    .rank(method='dense', ascending=True))  # Rank by date too\n",
    "upsell_users = df[(df['dense_rank'] > 1) & (df['date_rank'] == 1)].user_id.unique()\n",
    "print(len(upsell_users))"
   ]
  },
  {
   "cell_type": "code",
   "execution_count": 1,
   "id": "d7d105df",
   "metadata": {},
   "outputs": [],
   "source": [
    "import pandas as pd\n",
    "import numpy as np"
   ]
  },
  {
   "cell_type": "markdown",
   "id": "d6618434",
   "metadata": {},
   "source": [
    "# Removing duplicates from a list with the same order of items "
   ]
  },
  {
   "cell_type": "code",
   "execution_count": 12,
   "id": "a1fbef83",
   "metadata": {},
   "outputs": [],
   "source": [
    "a= [4, 2, 5, 2, 3, 4, 1, 5, 3]"
   ]
  },
  {
   "cell_type": "code",
   "execution_count": 15,
   "id": "185e0b87",
   "metadata": {},
   "outputs": [
    {
     "data": {
      "text/plain": [
       "[4, 2, 5, 3, 1]"
      ]
     },
     "execution_count": 15,
     "metadata": {},
     "output_type": "execute_result"
    }
   ],
   "source": [
    "d = []\n",
    "for item in a:\n",
    "    if item not in d:\n",
    "        d.append(item)\n",
    "d"
   ]
  },
  {
   "cell_type": "code",
   "execution_count": 16,
   "id": "e56eb467",
   "metadata": {},
   "outputs": [
    {
     "name": "stdout",
     "output_type": "stream",
     "text": [
      "apple\n",
      "banana\n",
      "cherry\n"
     ]
    }
   ],
   "source": [
    "fruits = ['apple', 'banana', 'cherry']\n",
    "for index, fruit in enumerate(fruits):\n",
    "    print(fruit)"
   ]
  },
  {
   "cell_type": "markdown",
   "id": "dcb5160d",
   "metadata": {},
   "source": [
    "# Enumerate Usage"
   ]
  },
  {
   "cell_type": "code",
   "execution_count": 21,
   "id": "17237d83",
   "metadata": {},
   "outputs": [
    {
     "name": "stdout",
     "output_type": "stream",
     "text": [
      "(0, 'h')\n",
      "(1, 'e')\n",
      "(2, 'l')\n",
      "(3, 'l')\n",
      "(4, 'o')\n"
     ]
    }
   ],
   "source": [
    "text = \"hello\"\n",
    "for char in enumerate(text):\n",
    "    print(char)"
   ]
  },
  {
   "cell_type": "markdown",
   "id": "235580f2",
   "metadata": {},
   "source": [
    "# FIGMA Interview Question\n",
    "\n",
    "## We are investigating our ability to perform session analytics on a 1% sample:\n",
    "\n",
    "\n",
    "\n",
    "## To test this, we would like to sub-sample our historic-dataset 1000 times in order to calculate the standard deviation we would expect from a random 1% sample:\n",
    "\n",
    "\n",
    "\n",
    "## Given the dataframe below create a function that takes in a dataframe, the size of the subsample (in this case 1% of the total), and the number of subsamples (EX. running 1000 times) and returns the standard deviation for the means of each subsample."
   ]
  },
  {
   "cell_type": "markdown",
   "id": "ca7b699d",
   "metadata": {},
   "source": [
    "## Dummy DataFrame"
   ]
  },
  {
   "cell_type": "code",
   "execution_count": 40,
   "id": "1295a9b0",
   "metadata": {},
   "outputs": [
    {
     "data": {
      "text/html": [
       "<div>\n",
       "<style scoped>\n",
       "    .dataframe tbody tr th:only-of-type {\n",
       "        vertical-align: middle;\n",
       "    }\n",
       "\n",
       "    .dataframe tbody tr th {\n",
       "        vertical-align: top;\n",
       "    }\n",
       "\n",
       "    .dataframe thead th {\n",
       "        text-align: right;\n",
       "    }\n",
       "</style>\n",
       "<table border=\"1\" class=\"dataframe\">\n",
       "  <thead>\n",
       "    <tr style=\"text-align: right;\">\n",
       "      <th></th>\n",
       "      <th>ID</th>\n",
       "      <th>Name</th>\n",
       "      <th>Age</th>\n",
       "      <th>Score</th>\n",
       "      <th>City</th>\n",
       "      <th>Signup_Date</th>\n",
       "    </tr>\n",
       "  </thead>\n",
       "  <tbody>\n",
       "    <tr>\n",
       "      <th>0</th>\n",
       "      <td>1</td>\n",
       "      <td>Person_1</td>\n",
       "      <td>56</td>\n",
       "      <td>85.003858</td>\n",
       "      <td>New York</td>\n",
       "      <td>2023-03-13</td>\n",
       "    </tr>\n",
       "    <tr>\n",
       "      <th>1</th>\n",
       "      <td>2</td>\n",
       "      <td>Person_2</td>\n",
       "      <td>46</td>\n",
       "      <td>44.945067</td>\n",
       "      <td>New York</td>\n",
       "      <td>2023-03-31</td>\n",
       "    </tr>\n",
       "    <tr>\n",
       "      <th>2</th>\n",
       "      <td>3</td>\n",
       "      <td>Person_3</td>\n",
       "      <td>32</td>\n",
       "      <td>9.541012</td>\n",
       "      <td>Los Angeles</td>\n",
       "      <td>2023-01-11</td>\n",
       "    </tr>\n",
       "    <tr>\n",
       "      <th>3</th>\n",
       "      <td>4</td>\n",
       "      <td>Person_4</td>\n",
       "      <td>25</td>\n",
       "      <td>37.081825</td>\n",
       "      <td>Los Angeles</td>\n",
       "      <td>2023-03-20</td>\n",
       "    </tr>\n",
       "    <tr>\n",
       "      <th>4</th>\n",
       "      <td>5</td>\n",
       "      <td>Person_5</td>\n",
       "      <td>38</td>\n",
       "      <td>66.884125</td>\n",
       "      <td>Chicago</td>\n",
       "      <td>2023-04-02</td>\n",
       "    </tr>\n",
       "  </tbody>\n",
       "</table>\n",
       "</div>"
      ],
      "text/plain": [
       "   ID      Name  Age      Score         City Signup_Date\n",
       "0   1  Person_1   56  85.003858     New York  2023-03-13\n",
       "1   2  Person_2   46  44.945067     New York  2023-03-31\n",
       "2   3  Person_3   32   9.541012  Los Angeles  2023-01-11\n",
       "3   4  Person_4   25  37.081825  Los Angeles  2023-03-20\n",
       "4   5  Person_5   38  66.884125      Chicago  2023-04-02"
      ]
     },
     "execution_count": 40,
     "metadata": {},
     "output_type": "execute_result"
    }
   ],
   "source": [
    "import pandas as pd\n",
    "import numpy as np\n",
    "\n",
    "# Set a random seed for reproducibility\n",
    "np.random.seed(42)\n",
    "\n",
    "# Define column names and generate data\n",
    "data = {\n",
    "    \"ID\": range(1, 101),  # Sequential IDs from 1 to 100\n",
    "    \"Name\": [f\"Person_{i}\" for i in range(1, 101)],  # Random names\n",
    "    \"Age\": np.random.randint(18, 60, size=100),  # Random ages between 18 and 60\n",
    "    \"Score\": np.random.uniform(0, 100, size=100),  # Random scores between 0 and 100\n",
    "    \"City\": np.random.choice([\"New York\", \"Los Angeles\", \"Chicago\", \"Houston\", \"Phoenix\"], size=100),  # Random city\n",
    "    \"Signup_Date\": pd.date_range(start=\"2023-01-01\", periods=100, freq=\"D\").to_series().sample(100).values  # Random signup dates\n",
    "}\n",
    "\n",
    "# Create the DataFrame\n",
    "df = pd.DataFrame(data)\n",
    "\n",
    "# Display the first 5 rows\n",
    "df.head()\n",
    "\n"
   ]
  },
  {
   "cell_type": "markdown",
   "id": "28d15d49",
   "metadata": {},
   "source": [
    "# Solution"
   ]
  },
  {
   "cell_type": "code",
   "execution_count": 50,
   "id": "92777077",
   "metadata": {},
   "outputs": [],
   "source": [
    "def sample_std (df,r,n):\n",
    "    t=[]\n",
    "    for i in range(0,n):\n",
    "        s=df.sample(int(r*df.shape[0]*0.01))\n",
    "        t.append(s)\n",
    "    combined_df = pd.concat(t)\n",
    "    print(combined_df['Score'].std())\n",
    "    "
   ]
  },
  {
   "cell_type": "markdown",
   "id": "4ebdc741",
   "metadata": {},
   "source": [
    "# Random Sampling from a list"
   ]
  },
  {
   "cell_type": "code",
   "execution_count": 59,
   "id": "a26831f4",
   "metadata": {},
   "outputs": [
    {
     "data": {
      "text/plain": [
       "[3, 3, 4]"
      ]
     },
     "execution_count": 59,
     "metadata": {},
     "output_type": "execute_result"
    }
   ],
   "source": [
    "import random\n",
    "random.sample(a,3)"
   ]
  },
  {
   "cell_type": "markdown",
   "id": "ccb45728",
   "metadata": {},
   "source": [
    "# Slicing the list"
   ]
  },
  {
   "cell_type": "code",
   "execution_count": 60,
   "id": "928ad3b2",
   "metadata": {},
   "outputs": [
    {
     "name": "stdout",
     "output_type": "stream",
     "text": [
      "[10, 20, 30]\n",
      "[30, 40, 50]\n",
      "[10, 30, 50]\n"
     ]
    }
   ],
   "source": [
    "my_list = [10, 20, 30, 40, 50]\n",
    "\n",
    "# Get the first 3 elements:\n",
    "print(my_list[0:3])  # Output: [10, 20, 30] \n",
    "\n",
    "# Get elements from index 2 to the end:\n",
    "print(my_list[2:])   # Output: [30, 40, 50]\n",
    "\n",
    "# Get every other element:\n",
    "print(my_list[::2])  # Output: [10, 30, 50]"
   ]
  },
  {
   "cell_type": "markdown",
   "id": "63bb2e14",
   "metadata": {},
   "source": [
    "# Reverse the list:"
   ]
  },
  {
   "cell_type": "code",
   "execution_count": 61,
   "id": "06ed41bc",
   "metadata": {},
   "outputs": [
    {
     "name": "stdout",
     "output_type": "stream",
     "text": [
      "[50, 40, 30, 20, 10]\n"
     ]
    }
   ],
   "source": [
    "print(my_list[::-1]) # Output: [50, 40, 30, 20, 10] "
   ]
  },
  {
   "cell_type": "markdown",
   "id": "40919924",
   "metadata": {},
   "source": [
    "# Flatten a nested list in Python\n",
    "\n",
    "## Generated by Gemini\n"
   ]
  },
  {
   "cell_type": "code",
   "execution_count": 62,
   "id": "e0ad1430",
   "metadata": {},
   "outputs": [
    {
     "data": {
      "text/plain": [
       "[1, 2, 3, 4, 5, 6]"
      ]
     },
     "execution_count": 62,
     "metadata": {},
     "output_type": "execute_result"
    }
   ],
   "source": [
    "def flatten(nested_list):\n",
    "    return [item for sublist in nested_list for item in sublist]\n",
    "\n",
    "nested_list = [[1, 2, 3], [4, 5], [6]]\n",
    "\n",
    "flatten(nested_list)"
   ]
  },
  {
   "cell_type": "markdown",
   "id": "1333ed3f",
   "metadata": {},
   "source": [
    "# Difference between \"append\" and \"extend\" in lists"
   ]
  },
  {
   "cell_type": "code",
   "execution_count": 67,
   "id": "d155d44d",
   "metadata": {},
   "outputs": [
    {
     "name": "stdout",
     "output_type": "stream",
     "text": [
      "[1, 2, 3, 4, [5, 6]]\n",
      "[1, 2, 3, 4, 5, 'a', 'b', 'c']\n"
     ]
    }
   ],
   "source": [
    "my_list1 = [1, 2, 3]\n",
    "\n",
    "my_list1.append(4)  # my_list becomes [1, 2, 3, 4]\n",
    "\n",
    "my_list1.append([5, 6]) \n",
    "\n",
    "print(my_list1)\n",
    "\n",
    "my_list2 = [1, 2, 3]\n",
    "\n",
    "my_list2.extend([4, 5])  # my_list becomes [1, 2, 3, 4, 5]\n",
    "\n",
    "my_list2.extend(\"abc\")\n",
    "\n",
    "print(my_list2)"
   ]
  },
  {
   "cell_type": "markdown",
   "id": "5055bff1",
   "metadata": {},
   "source": [
    "# \"zip\" in Python "
   ]
  },
  {
   "cell_type": "code",
   "execution_count": 74,
   "id": "dbc4b876",
   "metadata": {},
   "outputs": [
    {
     "name": "stdout",
     "output_type": "stream",
     "text": [
      "[('Alice', 25), ('Bob', 30), ('Charlie', 28)]\n",
      "{'Alice': 25, 'Bob': 30, 'Charlie': 28}\n"
     ]
    }
   ],
   "source": [
    "#List\n",
    "\n",
    "names = [\"Alice\", \"Bob\", \"Charlie\"]\n",
    "ages = [25, 30, 28]\n",
    "\n",
    "zipped=zip(names, ages)\n",
    "print(list(zipped))\n",
    "\n",
    "# Dictionary\n",
    "\n",
    "my_dict = dict(zip(names, ages))\n",
    "print(my_dict)\n"
   ]
  },
  {
   "cell_type": "markdown",
   "id": "28200340",
   "metadata": {},
   "source": [
    "# Count of list of items in a \"list\""
   ]
  },
  {
   "cell_type": "code",
   "execution_count": 85,
   "id": "658d92ff",
   "metadata": {},
   "outputs": [
    {
     "name": "stdout",
     "output_type": "stream",
     "text": [
      "{1: 1, 2: 2, 3: 3, 4: 4}\n"
     ]
    }
   ],
   "source": [
    "l = [1, 2, 2, 3, 3, 3, 4, 4, 4, 4]\n",
    "f = {}\n",
    "for item in l:\n",
    "    if item in f:\n",
    "        f[item] = f[item] + 1\n",
    "    else:\n",
    "        f[item] = 1\n",
    "print(f)"
   ]
  },
  {
   "cell_type": "markdown",
   "id": "2c0eaa21",
   "metadata": {},
   "source": [
    "# \"Itertools\" Uses"
   ]
  },
  {
   "cell_type": "code",
   "execution_count": 90,
   "id": "94ee4783",
   "metadata": {},
   "outputs": [
    {
     "name": "stdout",
     "output_type": "stream",
     "text": [
      "[10, 13, 16, 19, 22]\n"
     ]
    }
   ],
   "source": [
    "from itertools import count\n",
    "\n",
    "x=[]\n",
    "for i in count(10, 3): \n",
    "    x.append(i)\n",
    "    if i > 20:\n",
    "        break\n",
    "print(x)"
   ]
  },
  {
   "cell_type": "markdown",
   "id": "066276ea",
   "metadata": {},
   "source": [
    "# Appending lists "
   ]
  },
  {
   "cell_type": "code",
   "execution_count": 93,
   "id": "3bf9bad8",
   "metadata": {},
   "outputs": [
    {
     "name": "stdout",
     "output_type": "stream",
     "text": [
      "1\n",
      "2\n",
      "3\n",
      "4\n",
      "5\n"
     ]
    },
    {
     "data": {
      "text/plain": [
       "[1, 2, 3, 4, 5]"
      ]
     },
     "execution_count": 93,
     "metadata": {},
     "output_type": "execute_result"
    }
   ],
   "source": [
    "from itertools import chain\n",
    "\n",
    "list1 = [1, 2, 3]\n",
    "list2 = [4, 5]\n",
    "for i in chain(list1, list2):\n",
    "    print(i) \n",
    "\n",
    "list1 + list2"
   ]
  },
  {
   "cell_type": "markdown",
   "id": "f62c7429",
   "metadata": {},
   "source": [
    "# Bi-Grams"
   ]
  },
  {
   "cell_type": "code",
   "execution_count": 98,
   "id": "7f14fcea",
   "metadata": {},
   "outputs": [
    {
     "name": "stdout",
     "output_type": "stream",
     "text": [
      "('a', 'b')\n",
      "('a', 'c')\n",
      "('a', 'd')\n",
      "('a', 'e')\n",
      "('b', 'c')\n",
      "('b', 'd')\n",
      "('b', 'e')\n",
      "('c', 'd')\n",
      "('c', 'e')\n",
      "('d', 'e')\n"
     ]
    }
   ],
   "source": [
    "from itertools import combinations\n",
    "letters = ['a','b','c','d','e']\n",
    "for combo in combinations(letters, 2):\n",
    "    print(combo)"
   ]
  },
  {
   "cell_type": "markdown",
   "id": "562b79a1",
   "metadata": {},
   "source": [
    "# Tri-Grams"
   ]
  },
  {
   "cell_type": "code",
   "execution_count": 99,
   "id": "02e6135b",
   "metadata": {},
   "outputs": [
    {
     "name": "stdout",
     "output_type": "stream",
     "text": [
      "('a', 'b', 'c')\n",
      "('a', 'b', 'd')\n",
      "('a', 'b', 'e')\n",
      "('a', 'c', 'd')\n",
      "('a', 'c', 'e')\n",
      "('a', 'd', 'e')\n",
      "('b', 'c', 'd')\n",
      "('b', 'c', 'e')\n",
      "('b', 'd', 'e')\n",
      "('c', 'd', 'e')\n"
     ]
    }
   ],
   "source": [
    "letters = ['a','b','c','d','e']\n",
    "for combo in combinations(letters, 3):\n",
    "    print(combo)"
   ]
  },
  {
   "cell_type": "markdown",
   "id": "cebc0e72",
   "metadata": {},
   "source": [
    "# Recursion \n",
    "\n",
    "## Here's a breakdown of how to create a recursive function in Python:\n",
    "\n",
    "1. Define the Base Case\n",
    "\n",
    "The base case is the condition that stops the recursion. It's crucial to have a base case to prevent infinite loops. When the base case is met, the function returns a value without making further recursive calls.\n",
    "\n",
    "2. Define the Recursive Case\n",
    "\n",
    "The recursive case is where the function calls itself with a modified version of the input. This breaks the problem down into a smaller subproblem."
   ]
  },
  {
   "cell_type": "code",
   "execution_count": 102,
   "id": "15d43557",
   "metadata": {},
   "outputs": [
    {
     "data": {
      "text/plain": [
       "120"
      ]
     },
     "execution_count": 102,
     "metadata": {},
     "output_type": "execute_result"
    }
   ],
   "source": [
    "def factorial(n):\n",
    "    if n == 0:\n",
    "        return 1\n",
    "    else:\n",
    "        return n * factorial(n - 1) #Recursion\n",
    "    \n",
    "factorial(5)"
   ]
  },
  {
   "cell_type": "code",
   "execution_count": null,
   "id": "9eedebf9",
   "metadata": {},
   "outputs": [],
   "source": []
  }
 ],
 "metadata": {
  "kernelspec": {
   "display_name": "Python 3",
   "language": "python",
   "name": "python3"
  },
  "language_info": {
   "codemirror_mode": {
    "name": "ipython",
    "version": 3
   },
   "file_extension": ".py",
   "mimetype": "text/x-python",
   "name": "python",
   "nbconvert_exporter": "python",
   "pygments_lexer": "ipython3",
   "version": "3.8.8"
  }
 },
 "nbformat": 4,
 "nbformat_minor": 5
}
